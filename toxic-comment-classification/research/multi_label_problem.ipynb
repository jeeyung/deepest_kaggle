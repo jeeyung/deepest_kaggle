{
 "cells": [
  {
   "cell_type": "markdown",
   "metadata": {},
   "source": [
    "# Author : Choi Jongho  [(sweetcocoa)](https://github.com/sweetcocoa)\n",
    "\n",
    "들어가기에 앞서, **Multi Label Classification** 과 **Multi Class Classification** 의 용어 의미를 명확히 하고자 한다.\n",
    "\n",
    "- **Multi Class Classification**\n",
    " - 1개의 인스턴스는 여러 가지(>2)의 클래스 중 **하나**에 속한다.\n",
    "- **Multi Label Classification**\n",
    " - 1개의 인스턴스는 여러 가지(>1)의 클래스 중 **여러 가지**에 속할 수 있다.\n",
    " - 즉 Multi Label 문제는 Multi Class의 일반화된 버전이라고 볼 수 있다. [(Multi-label_classification)](https://en.wikipedia.org/wiki/Multi-label_classification)"
   ]
  },
  {
   "cell_type": "markdown",
   "metadata": {},
   "source": [
    "## binary relevance method\n"
   ]
  },
  {
   "cell_type": "code",
   "execution_count": null,
   "metadata": {
    "collapsed": true
   },
   "outputs": [],
   "source": []
  }
 ],
 "metadata": {
  "kernelspec": {
   "display_name": "Python [conda env:torch]",
   "language": "python",
   "name": "conda-env-torch-py"
  },
  "language_info": {
   "codemirror_mode": {
    "name": "ipython",
    "version": 3
   },
   "file_extension": ".py",
   "mimetype": "text/x-python",
   "name": "python",
   "nbconvert_exporter": "python",
   "pygments_lexer": "ipython3",
   "version": "3.6.3"
  }
 },
 "nbformat": 4,
 "nbformat_minor": 2
}
